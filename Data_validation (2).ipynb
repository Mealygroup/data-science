{
 "cells": [
  {
   "cell_type": "markdown",
   "metadata": {},
   "source": [
    "# DATA VALIDATION\n",
    "\n",
    "**This is the process of validating the generated data and make it ready for use.**"
   ]
  },
  {
   "cell_type": "code",
   "execution_count": 1,
   "metadata": {
    "id": "qceF8p-RL5EX"
   },
   "outputs": [],
   "source": [
    "# Importing libraries \n",
    "import pandas as pd\n",
    "import numpy as np"
   ]
  },
  {
   "cell_type": "code",
   "execution_count": 2,
   "metadata": {
    "id": "zTTorK8hQ0w0"
   },
   "outputs": [],
   "source": [
    "# Reading and defining the dataset\n",
    "df = pd.read_csv(\"meal_data1.csv\")"
   ]
  },
  {
   "cell_type": "code",
   "execution_count": 3,
   "metadata": {
    "colab": {
     "base_uri": "https://localhost:8080/",
     "height": 322
    },
    "id": "KVb6-H3GQ65i",
    "outputId": "1d35131d-817e-4c80-fcfb-d9845de4b61c"
   },
   "outputs": [
    {
     "data": {
      "text/html": [
       "<div>\n",
       "<style scoped>\n",
       "    .dataframe tbody tr th:only-of-type {\n",
       "        vertical-align: middle;\n",
       "    }\n",
       "\n",
       "    .dataframe tbody tr th {\n",
       "        vertical-align: top;\n",
       "    }\n",
       "\n",
       "    .dataframe thead th {\n",
       "        text-align: right;\n",
       "    }\n",
       "</style>\n",
       "<table border=\"1\" class=\"dataframe\">\n",
       "  <thead>\n",
       "    <tr style=\"text-align: right;\">\n",
       "      <th></th>\n",
       "      <th>Customer_id</th>\n",
       "      <th>Meal_id</th>\n",
       "      <th>Num_orders</th>\n",
       "      <th>Vendor</th>\n",
       "      <th>Gender</th>\n",
       "      <th>Ratings</th>\n",
       "      <th>Cuisine</th>\n",
       "      <th>Beverages</th>\n",
       "      <th>Order_history</th>\n",
       "      <th>Price</th>\n",
       "      <th>Location</th>\n",
       "    </tr>\n",
       "  </thead>\n",
       "  <tbody>\n",
       "    <tr>\n",
       "      <th>0</th>\n",
       "      <td>85890181-8e41-42be-be09-9b5a2cab73d0</td>\n",
       "      <td>27</td>\n",
       "      <td>42</td>\n",
       "      <td>Izanagi</td>\n",
       "      <td>Female</td>\n",
       "      <td>4</td>\n",
       "      <td>Salad / Side Dishes</td>\n",
       "      <td>Carbonated drinks</td>\n",
       "      <td>26</td>\n",
       "      <td>5318</td>\n",
       "      <td>Island</td>\n",
       "    </tr>\n",
       "    <tr>\n",
       "      <th>1</th>\n",
       "      <td>dc22d0a6-21ad-49e1-a2b2-1dfe6729fa53</td>\n",
       "      <td>43</td>\n",
       "      <td>25</td>\n",
       "      <td>Hard Rock</td>\n",
       "      <td>Male</td>\n",
       "      <td>4</td>\n",
       "      <td>Soups / Stews</td>\n",
       "      <td>Water</td>\n",
       "      <td>39</td>\n",
       "      <td>8538</td>\n",
       "      <td>Mainland</td>\n",
       "    </tr>\n",
       "    <tr>\n",
       "      <th>2</th>\n",
       "      <td>7f116c5c-815e-45d0-b20e-c3f9ab672ec2</td>\n",
       "      <td>14</td>\n",
       "      <td>41</td>\n",
       "      <td>Ocean Basket</td>\n",
       "      <td>Female</td>\n",
       "      <td>1</td>\n",
       "      <td>Meat</td>\n",
       "      <td>Water</td>\n",
       "      <td>49</td>\n",
       "      <td>6386</td>\n",
       "      <td>Mainland</td>\n",
       "    </tr>\n",
       "    <tr>\n",
       "      <th>3</th>\n",
       "      <td>f39edfd9-4dd2-4de1-8539-cc6ccf439dd4</td>\n",
       "      <td>43</td>\n",
       "      <td>32</td>\n",
       "      <td>R.S.V.P.</td>\n",
       "      <td>Female</td>\n",
       "      <td>5</td>\n",
       "      <td>Meat</td>\n",
       "      <td>Carbonated drinks</td>\n",
       "      <td>3</td>\n",
       "      <td>1258</td>\n",
       "      <td>Mainland</td>\n",
       "    </tr>\n",
       "    <tr>\n",
       "      <th>4</th>\n",
       "      <td>8469dc25-4feb-4ee6-8af1-69d0508b0211</td>\n",
       "      <td>32</td>\n",
       "      <td>27</td>\n",
       "      <td>R.S.V.P.</td>\n",
       "      <td>Female</td>\n",
       "      <td>3</td>\n",
       "      <td>Staple Food</td>\n",
       "      <td>Wine</td>\n",
       "      <td>21</td>\n",
       "      <td>5537</td>\n",
       "      <td>Mainland</td>\n",
       "    </tr>\n",
       "  </tbody>\n",
       "</table>\n",
       "</div>"
      ],
      "text/plain": [
       "                            Customer_id  Meal_id  Num_orders        Vendor  \\\n",
       "0  85890181-8e41-42be-be09-9b5a2cab73d0       27          42       Izanagi   \n",
       "1  dc22d0a6-21ad-49e1-a2b2-1dfe6729fa53       43          25     Hard Rock   \n",
       "2  7f116c5c-815e-45d0-b20e-c3f9ab672ec2       14          41  Ocean Basket   \n",
       "3  f39edfd9-4dd2-4de1-8539-cc6ccf439dd4       43          32      R.S.V.P.   \n",
       "4  8469dc25-4feb-4ee6-8af1-69d0508b0211       32          27      R.S.V.P.   \n",
       "\n",
       "   Gender  Ratings              Cuisine          Beverages  Order_history  \\\n",
       "0  Female        4  Salad / Side Dishes  Carbonated drinks             26   \n",
       "1    Male        4        Soups / Stews              Water             39   \n",
       "2  Female        1                 Meat              Water             49   \n",
       "3  Female        5                 Meat  Carbonated drinks              3   \n",
       "4  Female        3          Staple Food               Wine             21   \n",
       "\n",
       "   Price  Location  \n",
       "0   5318    Island  \n",
       "1   8538  Mainland  \n",
       "2   6386  Mainland  \n",
       "3   1258  Mainland  \n",
       "4   5537  Mainland  "
      ]
     },
     "execution_count": 3,
     "metadata": {},
     "output_type": "execute_result"
    }
   ],
   "source": [
    "# Viewing the first five rows of the dataset\n",
    "df.head()"
   ]
  },
  {
   "cell_type": "code",
   "execution_count": 4,
   "metadata": {},
   "outputs": [
    {
     "data": {
      "text/plain": [
       "(100000, 11)"
      ]
     },
     "execution_count": 4,
     "metadata": {},
     "output_type": "execute_result"
    }
   ],
   "source": [
    "# Checking the shape of the dataset\n",
    "df.shape"
   ]
  },
  {
   "cell_type": "markdown",
   "metadata": {},
   "source": [
    "**The dataset consist of 100,000 rows and 9 columns.**"
   ]
  },
  {
   "cell_type": "code",
   "execution_count": 5,
   "metadata": {},
   "outputs": [
    {
     "data": {
      "text/plain": [
       "Customer_id      0\n",
       "Meal_id          0\n",
       "Num_orders       0\n",
       "Vendor           0\n",
       "Gender           0\n",
       "Ratings          0\n",
       "Cuisine          0\n",
       "Beverages        0\n",
       "Order_history    0\n",
       "Price            0\n",
       "Location         0\n",
       "dtype: int64"
      ]
     },
     "execution_count": 5,
     "metadata": {},
     "output_type": "execute_result"
    }
   ],
   "source": [
    "# Checking for missing values in the data\n",
    "df.isna().sum()"
   ]
  },
  {
   "cell_type": "markdown",
   "metadata": {},
   "source": [
    "**There are no missing values in the dataset.**"
   ]
  },
  {
   "cell_type": "code",
   "execution_count": 6,
   "metadata": {},
   "outputs": [
    {
     "data": {
      "text/plain": [
       "0"
      ]
     },
     "execution_count": 6,
     "metadata": {},
     "output_type": "execute_result"
    }
   ],
   "source": [
    "# Checking for duplicates\n",
    "df.duplicated().sum()"
   ]
  },
  {
   "cell_type": "markdown",
   "metadata": {},
   "source": [
    "**There are no duplicated values in the dataset.**"
   ]
  },
  {
   "cell_type": "code",
   "execution_count": 7,
   "metadata": {},
   "outputs": [
    {
     "data": {
      "text/plain": [
       "Customer_id      object\n",
       "Meal_id           int64\n",
       "Num_orders        int64\n",
       "Vendor           object\n",
       "Gender           object\n",
       "Ratings           int64\n",
       "Cuisine          object\n",
       "Beverages        object\n",
       "Order_history     int64\n",
       "Price             int64\n",
       "Location         object\n",
       "dtype: object"
      ]
     },
     "execution_count": 7,
     "metadata": {},
     "output_type": "execute_result"
    }
   ],
   "source": [
    "# Checking the data types \n",
    "df.dtypes"
   ]
  },
  {
   "cell_type": "markdown",
   "metadata": {},
   "source": [
    "**The columns in the dataset consist of both object and integer values.**"
   ]
  },
  {
   "cell_type": "code",
   "execution_count": 8,
   "metadata": {},
   "outputs": [
    {
     "name": "stdout",
     "output_type": "stream",
     "text": [
      "<class 'pandas.core.frame.DataFrame'>\n",
      "RangeIndex: 100000 entries, 0 to 99999\n",
      "Data columns (total 11 columns):\n",
      " #   Column         Non-Null Count   Dtype \n",
      "---  ------         --------------   ----- \n",
      " 0   Customer_id    100000 non-null  object\n",
      " 1   Meal_id        100000 non-null  int64 \n",
      " 2   Num_orders     100000 non-null  int64 \n",
      " 3   Vendor         100000 non-null  object\n",
      " 4   Gender         100000 non-null  object\n",
      " 5   Ratings        100000 non-null  int64 \n",
      " 6   Cuisine        100000 non-null  object\n",
      " 7   Beverages      100000 non-null  object\n",
      " 8   Order_history  100000 non-null  int64 \n",
      " 9   Price          100000 non-null  int64 \n",
      " 10  Location       100000 non-null  object\n",
      "dtypes: int64(5), object(6)\n",
      "memory usage: 8.4+ MB\n"
     ]
    }
   ],
   "source": [
    "# Checking the information of the dataset.\n",
    "df.info()"
   ]
  },
  {
   "cell_type": "markdown",
   "metadata": {},
   "source": [
    "**The information of the dataset on each column are listed above.**"
   ]
  },
  {
   "cell_type": "code",
   "execution_count": 9,
   "metadata": {},
   "outputs": [
    {
     "data": {
      "text/plain": [
       "Index(['Customer_id', 'Meal_id', 'Num_orders', 'Vendor', 'Gender', 'Ratings',\n",
       "       'Cuisine', 'Beverages', 'Order_history', 'Price', 'Location'],\n",
       "      dtype='object')"
      ]
     },
     "execution_count": 9,
     "metadata": {},
     "output_type": "execute_result"
    }
   ],
   "source": [
    "# Checking the columns in the dataset\n",
    "df.columns"
   ]
  },
  {
   "cell_type": "markdown",
   "metadata": {},
   "source": [
    "**The columns in the dataset are listed above.**"
   ]
  },
  {
   "cell_type": "code",
   "execution_count": 10,
   "metadata": {
    "id": "4FuvTwDkRSpj"
   },
   "outputs": [],
   "source": [
    "# Importing to csv file\n",
    "df.to_csv(\"valid.csv\", index=False)"
   ]
  },
  {
   "cell_type": "code",
   "execution_count": null,
   "metadata": {
    "id": "Qj4JMFdpRgzb"
   },
   "outputs": [],
   "source": []
  }
 ],
 "metadata": {
  "colab": {
   "provenance": []
  },
  "kernelspec": {
   "display_name": "Python 3 (ipykernel)",
   "language": "python",
   "name": "python3"
  },
  "language_info": {
   "codemirror_mode": {
    "name": "ipython",
    "version": 3
   },
   "file_extension": ".py",
   "mimetype": "text/x-python",
   "name": "python",
   "nbconvert_exporter": "python",
   "pygments_lexer": "ipython3",
   "version": "3.9.13"
  }
 },
 "nbformat": 4,
 "nbformat_minor": 1
}
