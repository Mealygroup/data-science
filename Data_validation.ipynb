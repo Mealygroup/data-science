{
 "cells": [
  {
   "cell_type": "markdown",
   "metadata": {},
   "source": [
    "# DATA VALIDATION\n",
    "\n",
    "**This is the process of validating the generated data and make it ready for use.**"
   ]
  },
  {
   "cell_type": "code",
   "execution_count": 1,
   "metadata": {
    "id": "qceF8p-RL5EX"
   },
   "outputs": [],
   "source": [
    "# Importing libraries \n",
    "import pandas as pd\n",
    "import numpy as np"
   ]
  },
  {
   "cell_type": "code",
   "execution_count": 2,
   "metadata": {
    "id": "zTTorK8hQ0w0"
   },
   "outputs": [],
   "source": [
    "# Reading and defining the dataset\n",
    "df = pd.read_csv(\"Mealapp_data.csv\")"
   ]
  },
  {
   "cell_type": "code",
   "execution_count": 3,
   "metadata": {
    "colab": {
     "base_uri": "https://localhost:8080/",
     "height": 322
    },
    "id": "KVb6-H3GQ65i",
    "outputId": "1d35131d-817e-4c80-fcfb-d9845de4b61c"
   },
   "outputs": [
    {
     "data": {
      "text/html": [
       "<div>\n",
       "<style scoped>\n",
       "    .dataframe tbody tr th:only-of-type {\n",
       "        vertical-align: middle;\n",
       "    }\n",
       "\n",
       "    .dataframe tbody tr th {\n",
       "        vertical-align: top;\n",
       "    }\n",
       "\n",
       "    .dataframe thead th {\n",
       "        text-align: right;\n",
       "    }\n",
       "</style>\n",
       "<table border=\"1\" class=\"dataframe\">\n",
       "  <thead>\n",
       "    <tr style=\"text-align: right;\">\n",
       "      <th></th>\n",
       "      <th>Customer_id</th>\n",
       "      <th>Order_id</th>\n",
       "      <th>Meal_id</th>\n",
       "      <th>Meal_name</th>\n",
       "      <th>Meal_type</th>\n",
       "      <th>Meal_price</th>\n",
       "      <th>Vendor</th>\n",
       "      <th>Rating</th>\n",
       "      <th>Meal_description</th>\n",
       "      <th>Review</th>\n",
       "      <th>Location</th>\n",
       "    </tr>\n",
       "  </thead>\n",
       "  <tbody>\n",
       "    <tr>\n",
       "      <th>0</th>\n",
       "      <td>e8a6d0df-f43a-4b62-a004-cc610bdfe0ad</td>\n",
       "      <td>97296</td>\n",
       "      <td>17</td>\n",
       "      <td>Afang Soup with Fufu</td>\n",
       "      <td>Staple Food with Soups</td>\n",
       "      <td>2800</td>\n",
       "      <td>Ocean Basket</td>\n",
       "      <td>3</td>\n",
       "      <td>Delicious Afang Soup with Fufu made with authe...</td>\n",
       "      <td>Delicious food! Loved the flavors.</td>\n",
       "      <td>Island</td>\n",
       "    </tr>\n",
       "    <tr>\n",
       "      <th>1</th>\n",
       "      <td>1641b49b-c545-4310-a820-88a8146cb8e8</td>\n",
       "      <td>65501</td>\n",
       "      <td>87</td>\n",
       "      <td>Suya Platter (Beef, Chicken, and Innards)</td>\n",
       "      <td>Grilled Specialties</td>\n",
       "      <td>3500</td>\n",
       "      <td>Ocean Basket</td>\n",
       "      <td>3</td>\n",
       "      <td>Delicious Suya Platter (Beef, Chicken, and Inn...</td>\n",
       "      <td>Fresh ingredients and authentic taste.</td>\n",
       "      <td>Mainland</td>\n",
       "    </tr>\n",
       "    <tr>\n",
       "      <th>2</th>\n",
       "      <td>847765eb-b8bc-4f56-94ac-2a98ae61cf8a</td>\n",
       "      <td>13598</td>\n",
       "      <td>52</td>\n",
       "      <td>Garri with Afang Soup</td>\n",
       "      <td>Swallow and Soups / Stews</td>\n",
       "      <td>1300</td>\n",
       "      <td>Shiro</td>\n",
       "      <td>1</td>\n",
       "      <td>Delicious Garri with Afang Soup made with auth...</td>\n",
       "      <td>Food arrived late and order was incorrect.</td>\n",
       "      <td>Mainland</td>\n",
       "    </tr>\n",
       "    <tr>\n",
       "      <th>3</th>\n",
       "      <td>174b807a-28e1-4182-99b5-ea92087e4a0e</td>\n",
       "      <td>29358</td>\n",
       "      <td>1</td>\n",
       "      <td>Afang Soup with Fufu</td>\n",
       "      <td>Staple Food with Soups</td>\n",
       "      <td>2800</td>\n",
       "      <td>Ocean Basket</td>\n",
       "      <td>3</td>\n",
       "      <td>Delicious Afang Soup with Fufu made with authe...</td>\n",
       "      <td>Fresh ingredients and authentic taste.</td>\n",
       "      <td>Island</td>\n",
       "    </tr>\n",
       "    <tr>\n",
       "      <th>4</th>\n",
       "      <td>edf673e0-f0df-4899-ae68-d1baa650893a</td>\n",
       "      <td>45033</td>\n",
       "      <td>12</td>\n",
       "      <td>Jollof Rice with Beef Stir-Fry</td>\n",
       "      <td>Main Dishes</td>\n",
       "      <td>1600</td>\n",
       "      <td>Shiro</td>\n",
       "      <td>4</td>\n",
       "      <td>Delicious Jollof Rice with Beef Stir-Fry made ...</td>\n",
       "      <td>Amazing experience. Will definitely order again.</td>\n",
       "      <td>Mainland</td>\n",
       "    </tr>\n",
       "  </tbody>\n",
       "</table>\n",
       "</div>"
      ],
      "text/plain": [
       "                            Customer_id  Order_id  Meal_id  \\\n",
       "0  e8a6d0df-f43a-4b62-a004-cc610bdfe0ad     97296       17   \n",
       "1  1641b49b-c545-4310-a820-88a8146cb8e8     65501       87   \n",
       "2  847765eb-b8bc-4f56-94ac-2a98ae61cf8a     13598       52   \n",
       "3  174b807a-28e1-4182-99b5-ea92087e4a0e     29358        1   \n",
       "4  edf673e0-f0df-4899-ae68-d1baa650893a     45033       12   \n",
       "\n",
       "                                   Meal_name                  Meal_type  \\\n",
       "0                       Afang Soup with Fufu     Staple Food with Soups   \n",
       "1  Suya Platter (Beef, Chicken, and Innards)        Grilled Specialties   \n",
       "2                      Garri with Afang Soup  Swallow and Soups / Stews   \n",
       "3                       Afang Soup with Fufu     Staple Food with Soups   \n",
       "4             Jollof Rice with Beef Stir-Fry                Main Dishes   \n",
       "\n",
       "   Meal_price        Vendor  Rating  \\\n",
       "0        2800  Ocean Basket       3   \n",
       "1        3500  Ocean Basket       3   \n",
       "2        1300         Shiro       1   \n",
       "3        2800  Ocean Basket       3   \n",
       "4        1600         Shiro       4   \n",
       "\n",
       "                                    Meal_description  \\\n",
       "0  Delicious Afang Soup with Fufu made with authe...   \n",
       "1  Delicious Suya Platter (Beef, Chicken, and Inn...   \n",
       "2  Delicious Garri with Afang Soup made with auth...   \n",
       "3  Delicious Afang Soup with Fufu made with authe...   \n",
       "4  Delicious Jollof Rice with Beef Stir-Fry made ...   \n",
       "\n",
       "                                             Review  Location  \n",
       "0                Delicious food! Loved the flavors.    Island  \n",
       "1            Fresh ingredients and authentic taste.  Mainland  \n",
       "2        Food arrived late and order was incorrect.  Mainland  \n",
       "3            Fresh ingredients and authentic taste.    Island  \n",
       "4  Amazing experience. Will definitely order again.  Mainland  "
      ]
     },
     "execution_count": 3,
     "metadata": {},
     "output_type": "execute_result"
    }
   ],
   "source": [
    "# Viewing the first five rows of the dataset\n",
    "df.head()"
   ]
  },
  {
   "cell_type": "code",
   "execution_count": 4,
   "metadata": {},
   "outputs": [
    {
     "data": {
      "text/plain": [
       "(100000, 11)"
      ]
     },
     "execution_count": 4,
     "metadata": {},
     "output_type": "execute_result"
    }
   ],
   "source": [
    "# Checking the shape of the dataset\n",
    "df.shape"
   ]
  },
  {
   "cell_type": "markdown",
   "metadata": {},
   "source": [
    "**The dataset consist of 100,000 rows and 9 columns.**"
   ]
  },
  {
   "cell_type": "code",
   "execution_count": 5,
   "metadata": {},
   "outputs": [
    {
     "data": {
      "text/plain": [
       "Customer_id         0\n",
       "Order_id            0\n",
       "Meal_id             0\n",
       "Meal_name           0\n",
       "Meal_type           0\n",
       "Meal_price          0\n",
       "Vendor              0\n",
       "Rating              0\n",
       "Meal_description    0\n",
       "Review              0\n",
       "Location            0\n",
       "dtype: int64"
      ]
     },
     "execution_count": 5,
     "metadata": {},
     "output_type": "execute_result"
    }
   ],
   "source": [
    "# Checking for missing values in the data\n",
    "df.isna().sum()"
   ]
  },
  {
   "cell_type": "markdown",
   "metadata": {},
   "source": [
    "**There are no missing values in the dataset.**"
   ]
  },
  {
   "cell_type": "code",
   "execution_count": 6,
   "metadata": {},
   "outputs": [
    {
     "data": {
      "text/plain": [
       "0"
      ]
     },
     "execution_count": 6,
     "metadata": {},
     "output_type": "execute_result"
    }
   ],
   "source": [
    "# Checking for duplicates\n",
    "df.duplicated().sum()"
   ]
  },
  {
   "cell_type": "markdown",
   "metadata": {},
   "source": [
    "**There are no duplicated values in the dataset.**"
   ]
  },
  {
   "cell_type": "code",
   "execution_count": 7,
   "metadata": {},
   "outputs": [
    {
     "data": {
      "text/plain": [
       "Customer_id         object\n",
       "Order_id             int64\n",
       "Meal_id              int64\n",
       "Meal_name           object\n",
       "Meal_type           object\n",
       "Meal_price           int64\n",
       "Vendor              object\n",
       "Rating               int64\n",
       "Meal_description    object\n",
       "Review              object\n",
       "Location            object\n",
       "dtype: object"
      ]
     },
     "execution_count": 7,
     "metadata": {},
     "output_type": "execute_result"
    }
   ],
   "source": [
    "# Checking the data types \n",
    "df.dtypes"
   ]
  },
  {
   "cell_type": "markdown",
   "metadata": {},
   "source": [
    "**The columns in the dataset consist of both object and integer values.**"
   ]
  },
  {
   "cell_type": "code",
   "execution_count": 8,
   "metadata": {},
   "outputs": [
    {
     "name": "stdout",
     "output_type": "stream",
     "text": [
      "<class 'pandas.core.frame.DataFrame'>\n",
      "RangeIndex: 100000 entries, 0 to 99999\n",
      "Data columns (total 11 columns):\n",
      " #   Column            Non-Null Count   Dtype \n",
      "---  ------            --------------   ----- \n",
      " 0   Customer_id       100000 non-null  object\n",
      " 1   Order_id          100000 non-null  int64 \n",
      " 2   Meal_id           100000 non-null  int64 \n",
      " 3   Meal_name         100000 non-null  object\n",
      " 4   Meal_type         100000 non-null  object\n",
      " 5   Meal_price        100000 non-null  int64 \n",
      " 6   Vendor            100000 non-null  object\n",
      " 7   Rating            100000 non-null  int64 \n",
      " 8   Meal_description  100000 non-null  object\n",
      " 9   Review            100000 non-null  object\n",
      " 10  Location          100000 non-null  object\n",
      "dtypes: int64(4), object(7)\n",
      "memory usage: 8.4+ MB\n"
     ]
    }
   ],
   "source": [
    "# Checking the information of the dataset.\n",
    "df.info()"
   ]
  },
  {
   "cell_type": "markdown",
   "metadata": {},
   "source": [
    "**The information of the dataset on each column are listed above.**"
   ]
  },
  {
   "cell_type": "code",
   "execution_count": 9,
   "metadata": {},
   "outputs": [
    {
     "data": {
      "text/plain": [
       "Index(['Customer_id', 'Order_id', 'Meal_id', 'Meal_name', 'Meal_type',\n",
       "       'Meal_price', 'Vendor', 'Rating', 'Meal_description', 'Review',\n",
       "       'Location'],\n",
       "      dtype='object')"
      ]
     },
     "execution_count": 9,
     "metadata": {},
     "output_type": "execute_result"
    }
   ],
   "source": [
    "# Checking the columns in the dataset\n",
    "df.columns"
   ]
  },
  {
   "cell_type": "markdown",
   "metadata": {},
   "source": [
    "**The columns in the dataset are listed above.**"
   ]
  },
  {
   "cell_type": "code",
   "execution_count": 10,
   "metadata": {
    "id": "4FuvTwDkRSpj"
   },
   "outputs": [],
   "source": [
    "# Importing to csv file\n",
    "df.to_csv(\"valid.csv\", index=False)"
   ]
  },
  {
   "cell_type": "code",
   "execution_count": null,
   "metadata": {
    "id": "Qj4JMFdpRgzb"
   },
   "outputs": [],
   "source": []
  }
 ],
 "metadata": {
  "colab": {
   "provenance": []
  },
  "kernelspec": {
   "display_name": "Python 3 (ipykernel)",
   "language": "python",
   "name": "python3"
  },
  "language_info": {
   "codemirror_mode": {
    "name": "ipython",
    "version": 3
   },
   "file_extension": ".py",
   "mimetype": "text/x-python",
   "name": "python",
   "nbconvert_exporter": "python",
   "pygments_lexer": "ipython3",
   "version": "3.9.13"
  }
 },
 "nbformat": 4,
 "nbformat_minor": 1
}
