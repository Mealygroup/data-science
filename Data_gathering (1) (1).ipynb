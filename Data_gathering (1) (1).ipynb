{
 "cells": [
  {
   "cell_type": "markdown",
   "metadata": {},
   "source": [
    "# DATA GATHERING\n",
    "**This is the process of getting a dataset for a project work**\n",
    "\n",
    "I generated a dataset in this notebook for the purpose of a project work using the faker library in python."
   ]
  },
  {
   "cell_type": "markdown",
   "metadata": {
    "id": "u4Gpz--rW5Cq"
   },
   "source": [
    "**Below I'm installing the faker library.**"
   ]
  },
  {
   "cell_type": "code",
   "execution_count": 1,
   "metadata": {
    "colab": {
     "base_uri": "https://localhost:8080/"
    },
    "id": "apArVR1iDzxb",
    "outputId": "6b3ed454-29bb-4445-9184-76b59b4a50be"
   },
   "outputs": [],
   "source": [
    "# I'm installing the faker library using pip.\n",
    "!pip install Faker"
   ]
  },
  {
   "cell_type": "markdown",
   "metadata": {
    "id": "xI-CKmx2XmNJ"
   },
   "source": [
    "**I will be importing the necessary modules needed to generate the data.**"
   ]
  },
  {
   "cell_type": "code",
   "execution_count": 2,
   "metadata": {
    "id": "xnuuJuo9EcKg"
   },
   "outputs": [],
   "source": [
    "# Importing the necessary modules\n",
    "from faker import Faker \n",
    "import csv\n",
    "import pandas as pd"
   ]
  },
  {
   "cell_type": "markdown",
   "metadata": {
    "id": "bR-Z7_U5YVwf"
   },
   "source": [
    "**I'll be defining the faker library as fake for easy use**"
   ]
  },
  {
   "cell_type": "code",
   "execution_count": 3,
   "metadata": {
    "id": "Nn-tV5igExQV"
   },
   "outputs": [],
   "source": [
    "# Defining faker library as fake\n",
    "fake = Faker()"
   ]
  },
  {
   "cell_type": "markdown",
   "metadata": {
    "id": "_I4C3-mGZpw6"
   },
   "source": [
    "**Below I'll be writing the code to generate the dataset and I'll be defining the behavior of the datasets.**"
   ]
  },
  {
   "cell_type": "code",
   "execution_count": 4,
   "metadata": {
    "id": "S9_WHDQcFY01"
   },
   "outputs": [],
   "source": [
    "# Generating the dataset and naming it as meal data.\n",
    "with open(\"meal_data1.csv\", \"w\", newline= \"\",) as file:\n",
    "  writer = csv.writer(file)\n",
    "\n",
    "# Defining the row.\n",
    "  writer.writerow(\n",
    "      [\n",
    "      \"Customer_id\", \"Meal_id\", \"Num_orders\", \"Vendor\", \"Gender\", \"Ratings\", \n",
    "          \"Cuisine\", \"Beverages\", \"Order_history\", \"Price\", \"Location\"\n",
    "      ]\n",
    "      )\n",
    "  \n",
    "# Defining the range and column of the dataset.\n",
    "  for _ in range(100000):\n",
    "    Customer_id = fake.uuid4()\n",
    "    Meal_id = fake.random_int(min=1, max=50)\n",
    "    Num_orders = fake.random_int(min=1, max=50)\n",
    "    Vendor = fake.random_element([\"Shiro\", \"Hard Rock\", \"Ocean Basket\", \"R.S.V.P.\", \"Izanagi\"])\n",
    "    Gender = fake.random_element([\"Male\", \"Female\"])\n",
    "    Ratings = fake.random_int(min=1, max=5)\n",
    "    Cuisine = fake.random_element([\"Staple Food\", \"Soups / Stews\", \"Salad / Side Dishes\", \"Meat\", \"Street Food / Snacks\"])\n",
    "    Beverages = fake.random_element([\"Water\", \"Milk\", \"Carbonated drinks\", \"Juice\", \"Wine\"])\n",
    "    Order_history = fake.random_int(min=1, max=50)\n",
    "    Price = fake.random_int(min=500, max=10000)\n",
    "    Location = fake.random_element([\"Island\", \"Mainland\"])\n",
    "\n",
    "    writer.writerow([\n",
    "        Customer_id, Meal_id, Num_orders, Vendor, Gender, Ratings, Cuisine, Beverages, Order_history, Price, Location\n",
    "    ])"
   ]
  },
  {
   "cell_type": "markdown",
   "metadata": {
    "id": "9c_JsV2Sc_Tb"
   },
   "source": [
    "**I want to define the generated csv dataset and put it into a pandas dataframe**"
   ]
  },
  {
   "cell_type": "code",
   "execution_count": 5,
   "metadata": {
    "colab": {
     "base_uri": "https://localhost:8080/",
     "height": 371
    },
    "id": "nGnW6Q2FSTM-",
    "outputId": "b3c50d78-b292-4089-fb3a-d4e02763ec05"
   },
   "outputs": [
    {
     "name": "stdout",
     "output_type": "stream",
     "text": [
      "Shape of data: (100000, 11)\n",
      "\n"
     ]
    },
    {
     "data": {
      "text/html": [
       "<div>\n",
       "<style scoped>\n",
       "    .dataframe tbody tr th:only-of-type {\n",
       "        vertical-align: middle;\n",
       "    }\n",
       "\n",
       "    .dataframe tbody tr th {\n",
       "        vertical-align: top;\n",
       "    }\n",
       "\n",
       "    .dataframe thead th {\n",
       "        text-align: right;\n",
       "    }\n",
       "</style>\n",
       "<table border=\"1\" class=\"dataframe\">\n",
       "  <thead>\n",
       "    <tr style=\"text-align: right;\">\n",
       "      <th></th>\n",
       "      <th>Customer_id</th>\n",
       "      <th>Meal_id</th>\n",
       "      <th>Num_orders</th>\n",
       "      <th>Vendor</th>\n",
       "      <th>Gender</th>\n",
       "      <th>Ratings</th>\n",
       "      <th>Cuisine</th>\n",
       "      <th>Beverages</th>\n",
       "      <th>Order_history</th>\n",
       "      <th>Price</th>\n",
       "      <th>Location</th>\n",
       "    </tr>\n",
       "  </thead>\n",
       "  <tbody>\n",
       "    <tr>\n",
       "      <th>0</th>\n",
       "      <td>85890181-8e41-42be-be09-9b5a2cab73d0</td>\n",
       "      <td>27</td>\n",
       "      <td>42</td>\n",
       "      <td>Izanagi</td>\n",
       "      <td>Female</td>\n",
       "      <td>4</td>\n",
       "      <td>Salad / Side Dishes</td>\n",
       "      <td>Carbonated drinks</td>\n",
       "      <td>26</td>\n",
       "      <td>5318</td>\n",
       "      <td>Island</td>\n",
       "    </tr>\n",
       "    <tr>\n",
       "      <th>1</th>\n",
       "      <td>dc22d0a6-21ad-49e1-a2b2-1dfe6729fa53</td>\n",
       "      <td>43</td>\n",
       "      <td>25</td>\n",
       "      <td>Hard Rock</td>\n",
       "      <td>Male</td>\n",
       "      <td>4</td>\n",
       "      <td>Soups / Stews</td>\n",
       "      <td>Water</td>\n",
       "      <td>39</td>\n",
       "      <td>8538</td>\n",
       "      <td>Mainland</td>\n",
       "    </tr>\n",
       "    <tr>\n",
       "      <th>2</th>\n",
       "      <td>7f116c5c-815e-45d0-b20e-c3f9ab672ec2</td>\n",
       "      <td>14</td>\n",
       "      <td>41</td>\n",
       "      <td>Ocean Basket</td>\n",
       "      <td>Female</td>\n",
       "      <td>1</td>\n",
       "      <td>Meat</td>\n",
       "      <td>Water</td>\n",
       "      <td>49</td>\n",
       "      <td>6386</td>\n",
       "      <td>Mainland</td>\n",
       "    </tr>\n",
       "    <tr>\n",
       "      <th>3</th>\n",
       "      <td>f39edfd9-4dd2-4de1-8539-cc6ccf439dd4</td>\n",
       "      <td>43</td>\n",
       "      <td>32</td>\n",
       "      <td>R.S.V.P.</td>\n",
       "      <td>Female</td>\n",
       "      <td>5</td>\n",
       "      <td>Meat</td>\n",
       "      <td>Carbonated drinks</td>\n",
       "      <td>3</td>\n",
       "      <td>1258</td>\n",
       "      <td>Mainland</td>\n",
       "    </tr>\n",
       "    <tr>\n",
       "      <th>4</th>\n",
       "      <td>8469dc25-4feb-4ee6-8af1-69d0508b0211</td>\n",
       "      <td>32</td>\n",
       "      <td>27</td>\n",
       "      <td>R.S.V.P.</td>\n",
       "      <td>Female</td>\n",
       "      <td>3</td>\n",
       "      <td>Staple Food</td>\n",
       "      <td>Wine</td>\n",
       "      <td>21</td>\n",
       "      <td>5537</td>\n",
       "      <td>Mainland</td>\n",
       "    </tr>\n",
       "  </tbody>\n",
       "</table>\n",
       "</div>"
      ],
      "text/plain": [
       "                            Customer_id  Meal_id  Num_orders        Vendor  \\\n",
       "0  85890181-8e41-42be-be09-9b5a2cab73d0       27          42       Izanagi   \n",
       "1  dc22d0a6-21ad-49e1-a2b2-1dfe6729fa53       43          25     Hard Rock   \n",
       "2  7f116c5c-815e-45d0-b20e-c3f9ab672ec2       14          41  Ocean Basket   \n",
       "3  f39edfd9-4dd2-4de1-8539-cc6ccf439dd4       43          32      R.S.V.P.   \n",
       "4  8469dc25-4feb-4ee6-8af1-69d0508b0211       32          27      R.S.V.P.   \n",
       "\n",
       "   Gender  Ratings              Cuisine          Beverages  Order_history  \\\n",
       "0  Female        4  Salad / Side Dishes  Carbonated drinks             26   \n",
       "1    Male        4        Soups / Stews              Water             39   \n",
       "2  Female        1                 Meat              Water             49   \n",
       "3  Female        5                 Meat  Carbonated drinks              3   \n",
       "4  Female        3          Staple Food               Wine             21   \n",
       "\n",
       "   Price  Location  \n",
       "0   5318    Island  \n",
       "1   8538  Mainland  \n",
       "2   6386  Mainland  \n",
       "3   1258  Mainland  \n",
       "4   5537  Mainland  "
      ]
     },
     "execution_count": 5,
     "metadata": {},
     "output_type": "execute_result"
    }
   ],
   "source": [
    "# Defining the generated csv into pandas\n",
    "df = pd.read_csv(\"meal_data1.csv\")\n",
    "\n",
    "# I'm checking the shape of the dataset\n",
    "print(f\"Shape of data: {df.shape}\\n\")\n",
    "\n",
    "# I'm viewing the first five rows\n",
    "df.head()"
   ]
  },
  {
   "cell_type": "code",
   "execution_count": 6,
   "metadata": {},
   "outputs": [],
   "source": [
    "df.to_csv(r\"C:\\Users\\new\\OneDrive\\Desktop\\Meal_app_stutern.meal_data1.csv\")"
   ]
  },
  {
   "cell_type": "markdown",
   "metadata": {
    "id": "XrBzUjgUimJT"
   },
   "source": [
    "**Above in the dataset there are 100,000 rows and 11 columns in the dataframe.**"
   ]
  }
 ],
 "metadata": {
  "colab": {
   "provenance": []
  },
  "kernelspec": {
   "display_name": "Python 3 (ipykernel)",
   "language": "python",
   "name": "python3"
  },
  "language_info": {
   "codemirror_mode": {
    "name": "ipython",
    "version": 3
   },
   "file_extension": ".py",
   "mimetype": "text/x-python",
   "name": "python",
   "nbconvert_exporter": "python",
   "pygments_lexer": "ipython3",
   "version": "3.9.13"
  }
 },
 "nbformat": 4,
 "nbformat_minor": 1
}
