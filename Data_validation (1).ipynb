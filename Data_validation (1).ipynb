{
 "cells": [
  {
   "cell_type": "markdown",
   "metadata": {},
   "source": [
    "# DATA VALIDATION\n",
    "\n",
    "**This is the process of validating the generated data and make it ready for use.**"
   ]
  },
  {
   "cell_type": "code",
   "execution_count": 1,
   "metadata": {
    "id": "qceF8p-RL5EX"
   },
   "outputs": [],
   "source": [
    "# Importing libraries \n",
    "import pandas as pd\n",
    "import numpy as np"
   ]
  },
  {
   "cell_type": "code",
   "execution_count": 2,
   "metadata": {
    "id": "zTTorK8hQ0w0"
   },
   "outputs": [],
   "source": [
    "# Reading and defining the dataset\n",
    "df = pd.read_csv(\"meal_data1.csv\")"
   ]
  },
  {
   "cell_type": "code",
   "execution_count": 3,
   "metadata": {
    "colab": {
     "base_uri": "https://localhost:8080/",
     "height": 322
    },
    "id": "KVb6-H3GQ65i",
    "outputId": "1d35131d-817e-4c80-fcfb-d9845de4b61c"
   },
   "outputs": [
    {
     "data": {
      "text/html": [
       "<div>\n",
       "<style scoped>\n",
       "    .dataframe tbody tr th:only-of-type {\n",
       "        vertical-align: middle;\n",
       "    }\n",
       "\n",
       "    .dataframe tbody tr th {\n",
       "        vertical-align: top;\n",
       "    }\n",
       "\n",
       "    .dataframe thead th {\n",
       "        text-align: right;\n",
       "    }\n",
       "</style>\n",
       "<table border=\"1\" class=\"dataframe\">\n",
       "  <thead>\n",
       "    <tr style=\"text-align: right;\">\n",
       "      <th></th>\n",
       "      <th>Customer_id</th>\n",
       "      <th>Meal_id</th>\n",
       "      <th>Num_orders</th>\n",
       "      <th>Vendor</th>\n",
       "      <th>Gender</th>\n",
       "      <th>Ratings</th>\n",
       "      <th>Cuisine</th>\n",
       "      <th>Beverages</th>\n",
       "      <th>Order_history</th>\n",
       "      <th>Price</th>\n",
       "      <th>Location</th>\n",
       "    </tr>\n",
       "  </thead>\n",
       "  <tbody>\n",
       "    <tr>\n",
       "      <th>0</th>\n",
       "      <td>85890181-8e41-42be-be09-9b5a2cab73d0</td>\n",
       "      <td>27</td>\n",
       "      <td>42</td>\n",
       "      <td>Izanagi</td>\n",
       "      <td>Female</td>\n",
       "      <td>4</td>\n",
       "      <td>Salad / Side Dishes</td>\n",
       "      <td>Carbonated drinks</td>\n",
       "      <td>26</td>\n",
       "      <td>5318</td>\n",
       "      <td>Island</td>\n",
       "    </tr>\n",
       "    <tr>\n",
       "      <th>1</th>\n",
       "      <td>dc22d0a6-21ad-49e1-a2b2-1dfe6729fa53</td>\n",
       "      <td>43</td>\n",
       "      <td>25</td>\n",
       "      <td>Hard Rock</td>\n",
       "      <td>Male</td>\n",
       "      <td>4</td>\n",
       "      <td>Soups / Stews</td>\n",
       "      <td>Water</td>\n",
       "      <td>39</td>\n",
       "      <td>8538</td>\n",
       "      <td>Mainland</td>\n",
       "    </tr>\n",
       "    <tr>\n",
       "      <th>2</th>\n",
       "      <td>7f116c5c-815e-45d0-b20e-c3f9ab672ec2</td>\n",
       "      <td>14</td>\n",
       "      <td>41</td>\n",
       "      <td>Ocean Basket</td>\n",
       "      <td>Female</td>\n",
       "      <td>1</td>\n",
       "      <td>Meat</td>\n",
       "      <td>Water</td>\n",
       "      <td>49</td>\n",
       "      <td>6386</td>\n",
       "      <td>Mainland</td>\n",
       "    </tr>\n",
       "    <tr>\n",
       "      <th>3</th>\n",
       "      <td>f39edfd9-4dd2-4de1-8539-cc6ccf439dd4</td>\n",
       "      <td>43</td>\n",
       "      <td>32</td>\n",
       "      <td>R.S.V.P.</td>\n",
       "      <td>Female</td>\n",
       "      <td>5</td>\n",
       "      <td>Meat</td>\n",
       "      <td>Carbonated drinks</td>\n",
       "      <td>3</td>\n",
       "      <td>1258</td>\n",
       "      <td>Mainland</td>\n",
       "    </tr>\n",
       "    <tr>\n",
       "      <th>4</th>\n",
       "      <td>8469dc25-4feb-4ee6-8af1-69d0508b0211</td>\n",
       "      <td>32</td>\n",
       "      <td>27</td>\n",
       "      <td>R.S.V.P.</td>\n",
       "      <td>Female</td>\n",
       "      <td>3</td>\n",
       "      <td>Staple Food</td>\n",
       "      <td>Wine</td>\n",
       "      <td>21</td>\n",
       "      <td>5537</td>\n",
       "      <td>Mainland</td>\n",
       "    </tr>\n",
       "  </tbody>\n",
       "</table>\n",
       "</div>"
      ],
      "text/plain": [
       "                            Customer_id  Meal_id  Num_orders        Vendor  \\\n",
       "0  85890181-8e41-42be-be09-9b5a2cab73d0       27          42       Izanagi   \n",
       "1  dc22d0a6-21ad-49e1-a2b2-1dfe6729fa53       43          25     Hard Rock   \n",
       "2  7f116c5c-815e-45d0-b20e-c3f9ab672ec2       14          41  Ocean Basket   \n",
       "3  f39edfd9-4dd2-4de1-8539-cc6ccf439dd4       43          32      R.S.V.P.   \n",
       "4  8469dc25-4feb-4ee6-8af1-69d0508b0211       32          27      R.S.V.P.   \n",
       "\n",
       "   Gender  Ratings              Cuisine          Beverages  Order_history  \\\n",
       "0  Female        4  Salad / Side Dishes  Carbonated drinks             26   \n",
       "1    Male        4        Soups / Stews              Water             39   \n",
       "2  Female        1                 Meat              Water             49   \n",
       "3  Female        5                 Meat  Carbonated drinks              3   \n",
       "4  Female        3          Staple Food               Wine             21   \n",
       "\n",
       "   Price  Location  \n",
       "0   5318    Island  \n",
       "1   8538  Mainland  \n",
       "2   6386  Mainland  \n",
       "3   1258  Mainland  \n",
       "4   5537  Mainland  "
      ]
     },
     "execution_count": 3,
     "metadata": {},
     "output_type": "execute_result"
    }
   ],
   "source": [
    "# Viewing the dataset\n",
    "df.head()"
   ]
  },
  {
   "cell_type": "code",
   "execution_count": 4,
   "metadata": {
    "id": "MXKnczYLQ7j1"
   },
   "outputs": [],
   "source": [
    "# Selecting the necessary features.\n",
    "df = df[[\"Meal_id\", \"Num_orders\", \"Gender\", \"Ratings\", \"Order_history\", \"Price\", \"Location\", \"Cuisine\", \"Beverages\"]]"
   ]
  },
  {
   "cell_type": "code",
   "execution_count": 5,
   "metadata": {
    "colab": {
     "base_uri": "https://localhost:8080/",
     "height": 206
    },
    "id": "0QnuU_cTRRdY",
    "outputId": "5411aa83-73ff-42cf-81ea-d0360f82857e"
   },
   "outputs": [
    {
     "data": {
      "text/html": [
       "<div>\n",
       "<style scoped>\n",
       "    .dataframe tbody tr th:only-of-type {\n",
       "        vertical-align: middle;\n",
       "    }\n",
       "\n",
       "    .dataframe tbody tr th {\n",
       "        vertical-align: top;\n",
       "    }\n",
       "\n",
       "    .dataframe thead th {\n",
       "        text-align: right;\n",
       "    }\n",
       "</style>\n",
       "<table border=\"1\" class=\"dataframe\">\n",
       "  <thead>\n",
       "    <tr style=\"text-align: right;\">\n",
       "      <th></th>\n",
       "      <th>Meal_id</th>\n",
       "      <th>Num_orders</th>\n",
       "      <th>Gender</th>\n",
       "      <th>Ratings</th>\n",
       "      <th>Order_history</th>\n",
       "      <th>Price</th>\n",
       "      <th>Location</th>\n",
       "      <th>Cuisine</th>\n",
       "      <th>Beverages</th>\n",
       "    </tr>\n",
       "  </thead>\n",
       "  <tbody>\n",
       "    <tr>\n",
       "      <th>0</th>\n",
       "      <td>27</td>\n",
       "      <td>42</td>\n",
       "      <td>Female</td>\n",
       "      <td>4</td>\n",
       "      <td>26</td>\n",
       "      <td>5318</td>\n",
       "      <td>Island</td>\n",
       "      <td>Salad / Side Dishes</td>\n",
       "      <td>Carbonated drinks</td>\n",
       "    </tr>\n",
       "    <tr>\n",
       "      <th>1</th>\n",
       "      <td>43</td>\n",
       "      <td>25</td>\n",
       "      <td>Male</td>\n",
       "      <td>4</td>\n",
       "      <td>39</td>\n",
       "      <td>8538</td>\n",
       "      <td>Mainland</td>\n",
       "      <td>Soups / Stews</td>\n",
       "      <td>Water</td>\n",
       "    </tr>\n",
       "    <tr>\n",
       "      <th>2</th>\n",
       "      <td>14</td>\n",
       "      <td>41</td>\n",
       "      <td>Female</td>\n",
       "      <td>1</td>\n",
       "      <td>49</td>\n",
       "      <td>6386</td>\n",
       "      <td>Mainland</td>\n",
       "      <td>Meat</td>\n",
       "      <td>Water</td>\n",
       "    </tr>\n",
       "    <tr>\n",
       "      <th>3</th>\n",
       "      <td>43</td>\n",
       "      <td>32</td>\n",
       "      <td>Female</td>\n",
       "      <td>5</td>\n",
       "      <td>3</td>\n",
       "      <td>1258</td>\n",
       "      <td>Mainland</td>\n",
       "      <td>Meat</td>\n",
       "      <td>Carbonated drinks</td>\n",
       "    </tr>\n",
       "    <tr>\n",
       "      <th>4</th>\n",
       "      <td>32</td>\n",
       "      <td>27</td>\n",
       "      <td>Female</td>\n",
       "      <td>3</td>\n",
       "      <td>21</td>\n",
       "      <td>5537</td>\n",
       "      <td>Mainland</td>\n",
       "      <td>Staple Food</td>\n",
       "      <td>Wine</td>\n",
       "    </tr>\n",
       "  </tbody>\n",
       "</table>\n",
       "</div>"
      ],
      "text/plain": [
       "   Meal_id  Num_orders  Gender  Ratings  Order_history  Price  Location  \\\n",
       "0       27          42  Female        4             26   5318    Island   \n",
       "1       43          25    Male        4             39   8538  Mainland   \n",
       "2       14          41  Female        1             49   6386  Mainland   \n",
       "3       43          32  Female        5              3   1258  Mainland   \n",
       "4       32          27  Female        3             21   5537  Mainland   \n",
       "\n",
       "               Cuisine          Beverages  \n",
       "0  Salad / Side Dishes  Carbonated drinks  \n",
       "1        Soups / Stews              Water  \n",
       "2                 Meat              Water  \n",
       "3                 Meat  Carbonated drinks  \n",
       "4          Staple Food               Wine  "
      ]
     },
     "execution_count": 5,
     "metadata": {},
     "output_type": "execute_result"
    }
   ],
   "source": [
    "# Veiwing the table after selecting the necessary features.\n",
    "df.head()"
   ]
  },
  {
   "cell_type": "code",
   "execution_count": 6,
   "metadata": {
    "id": "4FuvTwDkRSpj"
   },
   "outputs": [],
   "source": [
    "# Importing to csv file\n",
    "df.to_csv(\"valid.csv\", index=False)"
   ]
  },
  {
   "cell_type": "code",
   "execution_count": null,
   "metadata": {
    "id": "Qj4JMFdpRgzb"
   },
   "outputs": [],
   "source": []
  }
 ],
 "metadata": {
  "colab": {
   "provenance": []
  },
  "kernelspec": {
   "display_name": "Python 3 (ipykernel)",
   "language": "python",
   "name": "python3"
  },
  "language_info": {
   "codemirror_mode": {
    "name": "ipython",
    "version": 3
   },
   "file_extension": ".py",
   "mimetype": "text/x-python",
   "name": "python",
   "nbconvert_exporter": "python",
   "pygments_lexer": "ipython3",
   "version": "3.9.13"
  }
 },
 "nbformat": 4,
 "nbformat_minor": 1
}
